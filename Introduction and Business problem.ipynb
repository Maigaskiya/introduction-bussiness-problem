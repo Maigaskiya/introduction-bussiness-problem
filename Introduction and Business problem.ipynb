{
 "cells": [
  {
   "cell_type": "markdown",
   "metadata": {},
   "source": [
    "# Capstone Project- The Battle of Neighbourhoods\n",
    "\n",
    "\n",
    "### Which type of cuisine restaurant would be the best option to open in Bay Area and near which company?\n",
    "\n",
    "==========================================================================================================================\n",
    "\n",
    "\n",
    "### Introduction / Business problem\n",
    "\n",
    "Silicon Valley is unarguably considered as the craddle of innovation. Many tech companies have their offices and headquaters located in the Bay Area. But what if someone want to open a restaurant business in the Bay Area? There are already many restaurant chains in the valley and near the offices of almost every tech company. As such, how can someone address this problem?\n",
    "\n",
    "The main idea behind this project is to analyze the restaurant chains in the Bay Area near the Tech companies and look for the areas where a successful restaurant business can be opened. The other objective is to pay special attention to the restaurant cuisine. Some neighbourhoods might already have a large number of same cuisine restaurants, and starting a restaurant in such area may not guarantee much profit.\n",
    "\n",
    "The project is beneficial to anyone who is looking to start a new restaurant business in the bay Area. The audience is quite large and includes the big food supply brands like McDonalds and the Cheesecake Factory. The project may also benefit already running restaurants to shift to some other cuisine for better business prospects.\n",
    "\n",
    "\n",
    "\n",
    "\n"
   ]
  }
 ],
 "metadata": {
  "kernelspec": {
   "display_name": "Python 3",
   "language": "python",
   "name": "python3"
  },
  "language_info": {
   "codemirror_mode": {
    "name": "ipython",
    "version": 3
   },
   "file_extension": ".py",
   "mimetype": "text/x-python",
   "name": "python",
   "nbconvert_exporter": "python",
   "pygments_lexer": "ipython3",
   "version": "3.7.6"
  }
 },
 "nbformat": 4,
 "nbformat_minor": 4
}
