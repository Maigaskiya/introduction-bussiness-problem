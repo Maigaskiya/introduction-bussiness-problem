{
 "cells": [
  {
   "cell_type": "markdown",
   "metadata": {},
   "source": [
    "### Data Description\n",
    "\n",
    "The data requirements include:\n",
    "- List of all the tech companies.\n",
    "- The coordinates of the offices.\n",
    "- The list of all the restaurants near the offices using Foursquare API\n",
    "\n",
    "Firstly, the data will be pre-processed and cleaned to get the list of some of the companies in the area. The list of the offices will be used to explore the venues near the offices within the radius of 1000 using the Foursqaure API. The venues will be filtered to obtain the list of the restaurants in the region. Then using KMeans clustering and data visualization through Folium, a clear idea will be obtained on where to open the next restaurants business. The clusters' evaluation will describe the best possible regions to open which particular cuisine restaurants.\n",
    "\n",
    "The Bay Area companies list is an open source list created by Mr. Connor Leech (https://github.com/connor11528) and is available on Github"
   ]
  },
  {
   "cell_type": "code",
   "execution_count": null,
   "metadata": {},
   "outputs": [],
   "source": []
  }
 ],
 "metadata": {
  "kernelspec": {
   "display_name": "Python 3",
   "language": "python",
   "name": "python3"
  },
  "language_info": {
   "codemirror_mode": {
    "name": "ipython",
    "version": 3
   },
   "file_extension": ".py",
   "mimetype": "text/x-python",
   "name": "python",
   "nbconvert_exporter": "python",
   "pygments_lexer": "ipython3",
   "version": "3.7.6"
  }
 },
 "nbformat": 4,
 "nbformat_minor": 4
}
